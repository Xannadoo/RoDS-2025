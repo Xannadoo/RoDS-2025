{
 "cells": [
  {
   "cell_type": "markdown",
   "metadata": {},
   "source": [
    "# 1. The Lie Factor\n",
    "\n",
    "## 1.1 Definition\n",
    "\n",
    "Often, visualizations are manipulated or distorted to persuade the reader or viewer to come around to a certain conclusion or point of view. We can quantify such distortions using the so-called **Lie Factor* to help quantify such distortions. It describes the relation between the size of effect shown in a graphic or visualization and the size of effect present in the data. Edward Tufte, professor at Yale University, defined the Lie Factor in his book *The Visual Display of Quantitative Information* (Tufte, 1991). Tufte states that *\"The representation of numbers, as physically measured on the surface of the graphic itself, should be directly proportional to the quantities represented.\"*.\n",
    "\n",
    "This results in the following formula:\n",
    "$$\n",
    "\\text{Lie Factor} = \\frac{\\text{size of effect shown in graphic}}{\\text{size of effect in data}}\n",
    "$$\n",
    "where\n",
    "$$\n",
    "\\text{size of effect} = \\frac{\\text{|second value - first value|}}{\\text{first value}}\n",
    "$$\n",
    "\n",
    "In other words, the Lie Factor is the size of an effect shown in a graphic, divided by the actual size of the effect in the data on which the graphic is based. When you measure the effect in the graphic, it is of course independent of the unit of measurement: pixels, cms, inches, etc.\n",
    "\n",
    "\n",
    "## 1.2 Interpretation\n",
    "\n",
    "The Lie Factor of a graphic should have a value between 0.95 and 1.05 to ensure the integrity. If the value is less or greater, it indicates a substantial (and often intended) distortion, far beyond minor inaccuracies (e.g., caused by plotting).\n",
    "\n",
    "For example, if the lie factor had a value of 1.02, then the graphic should not be described as lying or distorted, since a jitter in the graphic or another minor error is more likely the cause for the given distortion. On the other hand, if the factor had the value 1.45, we can generally assume that the producer intentionally distorted the graphic. Is the Lie Factor greater than 1, the concerned graphic is so called “Overstating”. Is it less than 1, the graphic is \"Understating\". "
   ]
  },
  {
   "cell_type": "markdown",
   "metadata": {},
   "source": [
    "## 1.3 Example\n",
    "![](visualization01.png)\n",
    "\n",
    "In this chart from the Argentinian TV channel C5N, it looks like Argentina is testing for COVID-19 at almost the same rate as the United States (EEUU). However, by inspecting the numbers, we immediately observe that Argentina is doing significantly worse than the US. Let's calculate the Lie Factor:\n",
    "\n",
    "* The Argentinian bar is about 80 pixels tall. The American bar is about 100 pixels tall.\n",
    "* The size of the effect shown in graphic is then (100-80)/80 = 0.25, and the size of the effect in data is (7000-330)/(330) = 20.2\n",
    "* The lie factor is thus 0.25 / 20.2=0.0123.\n",
    "\n",
    "We can now conclude that the graphic is **understating**."
   ]
  },
  {
   "cell_type": "code",
   "execution_count": 15,
   "metadata": {},
   "outputs": [
    {
     "name": "stdout",
     "output_type": "stream",
     "text": [
      "US first: \n",
      "  graph effect: 0.2000,\n",
      "  data effect:0.9529\n",
      "Argentina first: \n",
      "  graph effect: 0.2500,\n",
      "  data effect:20.2121\n",
      "\n",
      "US first lie factor: 0.2099\n",
      "Argentina first lie factor: 0.0124\n"
     ]
    }
   ],
   "source": [
    "us_g = 100  #us graph\n",
    "ag_g = 80   #argentina graph\n",
    "\n",
    "us_d = 7000 #us data    \n",
    "ag_d = 330  #argentina data\n",
    "\n",
    "def effect(first, second):\n",
    "    return abs(second-first)/first\n",
    "\n",
    "def total(effect_graph, effect_data):\n",
    "    return effect_graph/effect_data\n",
    "\n",
    "##Note it depends which you consider first and second\n",
    "\n",
    "print(f'US first: \\n  graph effect: {effect(us_g, ag_g):.4f},\\n  data effect:{effect(us_d, ag_d):.4f}')\n",
    "print(f'Argentina first: \\n  graph effect: {effect(ag_g, us_g):.4f},\\n  data effect:{effect(ag_d, us_d):.4f}')\n",
    "print()\n",
    "print(f'US first lie factor: {total(effect(us_g, ag_g),effect(us_d, ag_d)):.4f}\\nArgentina first lie factor: {total(effect(ag_g, us_g),effect(ag_d, us_d)):.4f}')"
   ]
  },
  {
   "cell_type": "markdown",
   "metadata": {},
   "source": [
    "## 1.4 Exercises\n",
    "Find the Lie Factors (outside the range [0.95, 1.05]) in the following charts.\n",
    "\n",
    "In order to measure pixel coordinates, you can use the screenshot tool (Command-Shift-4) on Mac. On Windows, you can save the screenshot from snipping tool (Win+Shift+s) and look at its properties to see its size in pixels. On Linux, use the screenshot tool of your choice (scrot and flameshot are popular), and use the `file` command to see its dimensions. Or you can go old school and use an old-fashioned rule to measure the distances on your monitor ;-)"
   ]
  },
  {
   "cell_type": "markdown",
   "metadata": {},
   "source": [
    "### 1.4.1 Work hours\n",
    "![](visualization02.gif)"
   ]
  },
  {
   "cell_type": "markdown",
   "metadata": {},
   "source": [
    "* The 'France' bar is 66 pixels wide. The 'Romania' bar is 240 pixels wide.\n",
    "* The size of the effect shown in graphic is then (240-66)/66 = 2.64, and the size of the effect in data is (41.2-37.4)/37.4 = 0.102\n",
    "* The lie factor is thus 2.64 / 0.102 = 25.88.\n",
    "* We can now conclude that the graphic is **overstating**."
   ]
  },
  {
   "cell_type": "code",
   "execution_count": 20,
   "metadata": {},
   "outputs": [
    {
     "name": "stdout",
     "output_type": "stream",
     "text": [
      "France: 25.9474\n",
      "Romania: 7.8605\n"
     ]
    }
   ],
   "source": [
    "print(f'France: {total(effect(66,240), effect(37.4,41.2)):.4f}\\nRomania: {total(effect(240, 66), effect(41.2, 37.4)):.4f}')"
   ]
  },
  {
   "cell_type": "markdown",
   "metadata": {},
   "source": [
    "### 1.4.2 Clipped bar charts\n",
    "![](visualization03.png)"
   ]
  },
  {
   "cell_type": "markdown",
   "metadata": {},
   "source": [
    "* The red 'London' bar is 21 pixels tall. The red 'Paris' bar is 174 pixels tall.\n",
    "* The size of the effect shown in graphic is then (174-21)/21 = 7.29, and the size of the effect in data is (34.5-1.1)/1.1 = 30.36\n",
    "* The lie factor is thus 7.29 / 30.36 = 0.24\n",
    "* We can now conclude that the graphic is **understating**."
   ]
  },
  {
   "cell_type": "code",
   "execution_count": 22,
   "metadata": {},
   "outputs": [
    {
     "name": "stdout",
     "output_type": "stream",
     "text": [
      "0.24\n"
     ]
    }
   ],
   "source": [
    "print(f'{total(effect(21,174), effect(1.1,34.5)):.2f}')"
   ]
  },
  {
   "cell_type": "markdown",
   "metadata": {},
   "source": [
    "### 1.4.3 Poll results\n",
    "\n",
    "![](visualization04.png)"
   ]
  },
  {
   "cell_type": "markdown",
   "metadata": {},
   "source": [
    "* The 'NO' rectangle is 110 pixels tall. The 'YES' rectangle is 110 pixels tall.\n",
    "* The size of the effect shown in graphic is then (110-110)/110 = 0, and the size of the effect in data is (99-1)/1 = 98\n",
    "* The lie factor is thus 0 / 98 = 0.\n",
    "* We can now conclude that the graphic is **understating**."
   ]
  },
  {
   "cell_type": "code",
   "execution_count": 24,
   "metadata": {},
   "outputs": [
    {
     "name": "stdout",
     "output_type": "stream",
     "text": [
      "0.0\n"
     ]
    }
   ],
   "source": [
    "print(f'{total(effect(110,110), effect(1,99))}')"
   ]
  },
  {
   "cell_type": "markdown",
   "metadata": {},
   "source": [
    "## References\n",
    "\n",
    "- Tufte, E. R. (1991). The Visual Display of Quantitative Information (2nd edition), Graphics Press, USA, 1991, p. 57–69.\n",
    "- https://infovis-wiki.net/wiki/Lie_Factor"
   ]
  }
 ],
 "metadata": {
  "kernelspec": {
   "display_name": "AFAE",
   "language": "python",
   "name": "python3"
  },
  "language_info": {
   "codemirror_mode": {
    "name": "ipython",
    "version": 3
   },
   "file_extension": ".py",
   "mimetype": "text/x-python",
   "name": "python",
   "nbconvert_exporter": "python",
   "pygments_lexer": "ipython3",
   "version": "3.11.11"
  }
 },
 "nbformat": 4,
 "nbformat_minor": 2
}
