{
 "cells": [
  {
   "cell_type": "markdown",
   "metadata": {},
   "source": [
    "# 2. Fermi estimates\n",
    "\n",
    "\n",
    "Often, you might find it useful to estimate the size of something without very much information. Rather than getting a precise answer, you might aim to get an order-of-magnitude estimate. The goal is to get a sense of the approximate size. This type of problem is known as a Fermi Problem, named for physicist Enrico Fermi. **Fermi estimation** (or order-of-magnitude estimation) is an estimation method for performing extreme (scientific) calculations by making justified guesses about quantities and their bounds.\n",
    "\n",
    "## 2.1 Examples\n",
    "<img src=\"https://hotelemc2.com/wp-content/uploads/2018/02/Why-Chicago-is-the-Best-City-in-the-World.png\" width=\"500\">\n",
    "\n",
    "\n",
    "### 2.1.1 How many bicycles are sold in Denmark per year?\n",
    "* The population of Denmark is about 6 million people.\n",
    "* Let's say that around a third of Denmark are interested in bicycles. That's 2 million people\n",
    "* On average, a person who probably buys a new bicycle every 5 years.\n",
    "* That means that approximately $\\frac{6,000,000}{3 \\times 5}$ = 400,000\n",
    "\n",
    "The actual number in 2010 was about 450,000, according to [idekatalogforcykeltrafik.dk](https://idekatalogforcykeltrafik.dk/cyklen-cykeltyper-og-udstyr/).\n",
    "\n",
    "\n",
    "### 2.1.2 How long would it take to count to a million (in English)?\n",
    "\n",
    "* 9/10 of the numbers are above 100,000 and would therefore take approximately the same time to say (\"nine hundred sixty-one thousand six hundred and forty-seven\" doesn't take that much longer to say than \"one hundred thirty-one thousand three hundred and forty-one\")\n",
    "* Using a stopwatch, I measured the time to say the numbers from 564,380 to 564,389. That took 31 seconds.\n",
    "* Assuming I could keep that pace up for the entire ordeal, that would make each number take 3.1 seconds to say\n",
    "* Thus, it would take $\\frac{1,000,000 \\times 3.1}{60 \\times 60 \\times 24} = 36$ days to count to a million.\n",
    "\n",
    "In 2007, a guy called Jeremy Harper counted to a million in 89 days at 16 hours per day = $\\frac{89 \\times 16}{24}=59$ total days, so we were not far off."
   ]
  },
  {
   "cell_type": "markdown",
   "metadata": {},
   "source": [
    "## 2.2 Exercises\n",
    "\n",
    "Use Fermi estimation to estimate the following quantities without looking up any facts (but feel free to check your answer afterwards). The goal here is not to exactly arrive at the estimates we provided in our answer guide, but to hone your decomposition and bounding skills so you too are within the same order of magnitude. After receiving the answer guide, we recommend you reflect on your decomposition and where you may have been too optimistic or pessimistic in your estimates."
   ]
  },
  {
   "cell_type": "markdown",
   "metadata": {},
   "source": [
    "### 2.1 How many people are talking on the phone this minute?"
   ]
  },
  {
   "cell_type": "markdown",
   "metadata": {},
   "source": [
    "Answer:\n",
    "\n",
    "* There are around 8 billion people in the world\n",
    "* Let's say that around half of those have a phone. That's 4 billion people.\n",
    "* During an average day, each person probably talks on the phone for 15 minutes. That means that at any given minute, a person has a $\\frac{15}{24 \\times 60}\\approx 1 \\%$ chance of talking on the phone.\n",
    "* Around 4,000,000,000 / 100 = 40,000,000 people are talking on the phone this minute"
   ]
  },
  {
   "cell_type": "markdown",
   "metadata": {},
   "source": [
    "### 2.2 If you combine all the liquid you will every drink over your lifetime, how many bathtubs would it fill?"
   ]
  },
  {
   "cell_type": "markdown",
   "metadata": {},
   "source": [
    "Answer:\n",
    "\n",
    "* On any given day, I will probably drink around 2 liters of liquid\n",
    "* The average life expectancy for a man in Denmark is around 75 years. That's 75 $\\times$ 365 $\\times$ 2 = 54,750 liters of liquid\n",
    "* A bathtub is 1.5 $\\times$ 0.5 $\\times$ 0.5 = 0,375 m<sup>3</sup>.  There are 1,000 liters per m<sup>3</sup>, so there are 375 liters in a bathtub\n",
    "* Therefore, I will drink around 54,750 / 375 = 146 bathtubs worth of liquid in my lifetime."
   ]
  },
  {
   "cell_type": "markdown",
   "metadata": {},
   "source": [
    "### 2.3 How many 5 kr. coins stacked on top of each other would you need in order for the stack to be taller than Mount Everest?"
   ]
  },
  {
   "cell_type": "markdown",
   "metadata": {},
   "source": [
    "Answer:\n",
    "\n",
    "* A 5 kr. coin is probably around 1 mm thick. That's 1,000 coins per meter.\n",
    "* Mount Everest is around 10 km tall. That's 10,000 meters.\n",
    "* We would need 10,000,000 coins (which is 50,000,000 kr. worth of coins)."
   ]
  }
 ],
 "metadata": {
  "kernelspec": {
   "display_name": "Python 3",
   "language": "python",
   "name": "python3"
  },
  "language_info": {
   "codemirror_mode": {
    "name": "ipython",
    "version": 3
   },
   "file_extension": ".py",
   "mimetype": "text/x-python",
   "name": "python",
   "nbconvert_exporter": "python",
   "pygments_lexer": "ipython3",
   "version": "3.9.5"
  }
 },
 "nbformat": 4,
 "nbformat_minor": 2
}
