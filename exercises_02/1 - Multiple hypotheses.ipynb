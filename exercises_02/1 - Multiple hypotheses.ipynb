{
 "cells": [
  {
   "cell_type": "markdown",
   "metadata": {},
   "source": [
    "# 1. World records as measures of senescence\n",
    "\n",
    "## 1.1 Introduction\n",
    "\n",
    "This exercise consists of running simulations with three probabilities functions (normal, exponential and lognormal) to show that sample size is a major issue with the study of senescence and drops in performance: https://callingbullshit.org/case_studies/case_study_track_records.html\n",
    "\n",
    "\n",
    "## 1.2 Visualize the decrease in world records by age\n",
    "\n",
    "The first step is to recreate the original line chart of Bergstrom & Dugatkin (2016) that shows world records decreasing by age. Since some records correspond to the lowest value (e.g., the 100m dash) while others correspond to the highest value (i.e., the longjump), we first define two functions to scale both types of records so we could compare different records if we wanted to."
   ]
  },
  {
   "cell_type": "code",
   "execution_count": 1,
   "metadata": {},
   "outputs": [],
   "source": [
    "%matplotlib inline\n",
    "import matplotlib.pyplot as plt\n",
    "import numpy as np\n",
    "import scipy.stats as stats\n",
    "import math\n",
    "import random\n",
    "\n",
    "# Function that scales the data in case of records where lower is better\n",
    "def scale_records(data):\n",
    "    record = min(data)\n",
    "    data_scaled = [record / x for x in data]\n",
    "    return data_scaled\n",
    "\n",
    "# Function that scales the data in case of records where higher is better\n",
    "def scale_data(data):\n",
    "    best = max(data)\n",
    "    data_scaled = [x / best for x in data]\n",
    "    return data_scaled\n",
    "\n",
    "# Set random seed\n",
    "random.seed(1)"
   ]
  },
  {
   "cell_type": "markdown",
   "metadata": {},
   "source": [
    "We include the records on the 100m dash for different age groups below:"
   ]
  },
  {
   "cell_type": "code",
   "execution_count": 4,
   "metadata": {},
   "outputs": [],
   "source": [
    "# 100m dash world records (2016)\n",
    "records_100 = [9.58, 9.96, 10.29, 10.72, 10.88, 11.39, 11.70, 12.37, 12.77, 13.49, 14.35, 15.97, 17.53, 20.41, 29.83]\n",
    "age = [20, 35, 40, 45, 50, 55, 60, 65, 70, 75, 80, 85, 90, 95, 100]"
   ]
  },
  {
   "cell_type": "markdown",
   "metadata": {},
   "source": [
    "Now create a plot of the scaled records vs. age."
   ]
  },
  {
   "cell_type": "code",
   "execution_count": null,
   "metadata": {},
   "outputs": [],
   "source": []
  },
  {
   "cell_type": "markdown",
   "metadata": {},
   "source": [
    "## 1.2 Simulate the effects of different sample sizes\n",
    "\n",
    "Now we recreate the second plot from the lecture where we compare the impact of different sample sizes on the records. For this, you need to generate samples of 100m dash times drawn from three different distributions: (1) normal, (2) exponential, and (3) log-normal. You could try out the following sample sizes: 10, 100, 1,000, 10,000, 100,000, and 1,000,000. We recommend you do this using [inverse transform sampling](https://en.wikipedia.org/wiki/Inverse_transform_sampling)."
   ]
  },
  {
   "cell_type": "code",
   "execution_count": null,
   "metadata": {},
   "outputs": [],
   "source": []
  },
  {
   "cell_type": "markdown",
   "metadata": {},
   "source": [
    "Once you've performed the inverse transform sampling for all three distribution types, remember to scale the values and plot them against."
   ]
  },
  {
   "cell_type": "code",
   "execution_count": null,
   "metadata": {},
   "outputs": [],
   "source": []
  },
  {
   "cell_type": "markdown",
   "metadata": {},
   "source": [
    "As we also showed in class, descreasing sample sizes for different distributions—and especially the normal distribution—can also explain the pattern, so the original plot is not convincing evidence of senescence in terms of world records."
   ]
  },
  {
   "cell_type": "markdown",
   "metadata": {},
   "source": [
    "If you want, you can now repeat this with another types of record (e.g., the longjump). You will need to find these records for the different age groups yourself."
   ]
  }
 ],
 "metadata": {
  "kernelspec": {
   "display_name": "Python 3",
   "language": "python",
   "name": "python3"
  },
  "language_info": {
   "codemirror_mode": {
    "name": "ipython",
    "version": 3
   },
   "file_extension": ".py",
   "mimetype": "text/x-python",
   "name": "python",
   "nbconvert_exporter": "python",
   "pygments_lexer": "ipython3",
   "version": "3.9.16"
  }
 },
 "nbformat": 4,
 "nbformat_minor": 2
}
